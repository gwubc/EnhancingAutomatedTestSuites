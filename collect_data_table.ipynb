{
 "cells": [
  {
   "cell_type": "code",
   "execution_count": 1,
   "metadata": {},
   "outputs": [],
   "source": [
    "import json\n",
    "from pprint import pprint\n",
    "from collect_data_helpers import *\n",
    "import os\n",
    "import random\n",
    "from random import choices\n",
    "from collections import OrderedDict\n",
    "import collections\n",
    "import itertools\n",
    "from functools import reduce\n",
    "import matplotlib.pyplot as plt\n",
    "import numpy as np\n",
    "\n",
    "random.seed(0)"
   ]
  },
  {
   "cell_type": "code",
   "execution_count": 2,
   "metadata": {},
   "outputs": [],
   "source": [
    "def load_data(num_of_runs):\n",
    "    data = OrderedDict()\n",
    "    data[\"PBTFactory\"] = load_from_folder(\"result_pub/stdlib/PBTFactory_stdlib\", num_of_runs)\n",
    "    data[\"PBT baseline\"] = load_from_folder(\"result_pub/stdlib/pbt_baseline_stdlib\", num_of_runs)\n",
    "    data[\"unit test baseline\"] = load_from_folder(\"result_pub/stdlib/unit_test_baseline_stdlib\", num_of_runs)\n",
    "    return data"
   ]
  },
  {
   "cell_type": "code",
   "execution_count": 3,
   "metadata": {},
   "outputs": [
    {
     "name": "stdout",
     "output_type": "stream",
     "text": [
      "| Pipeline | Mutation Score | Coverage | Success Rate | Create Rate | Retry Count | Total |\n",
      "| --- | --- | --- | --- | --- | --- | --- |\n",
      "| PBTFactory | 68% | 87% | 98% | 71% | 0.7 | 10.0 |\n",
      "| PBT baseline | 47% | 72% | 88% | 100% | 1.5 | 10.0 |\n",
      "| unit test baseline | 74% | 92% | 83% | 100% | 1.9 | 10.0 |\n"
     ]
    }
   ],
   "source": [
    "table1 = get_summary(load_data, 5)\n",
    "print_table(table1, [\"Pipeline\", \"Mutation Score\", \"Coverage\", \"Success Rate\", \"Create Rate\", \"Retry Count\", \"Total\"])"
   ]
  },
  {
   "cell_type": "code",
   "execution_count": 4,
   "metadata": {},
   "outputs": [
    {
     "name": "stdout",
     "output_type": "stream",
     "text": [
      "| Pipeline | Mutation Score | Coverage | Success Rate | Create Rate | Retry Count | Total |\n",
      "| --- | --- | --- | --- | --- | --- | --- |\n",
      "| PBTFactory | 68% | 86% | 100% | 74% | 0.6 | 7.3 |\n",
      "| PBT baseline | 51% | 75% | 100% | 100% | 1.4 | 7.3 |\n",
      "| unit test baseline | 74% | 92% | 100% | 100% | 1.9 | 7.3 |\n"
     ]
    }
   ],
   "source": [
    "table2 = get_summary(load_data, 5, True)\n",
    "print_table(table2, [\"Pipeline\", \"Mutation Score\", \"Coverage\", \"Success Rate\", \"Create Rate\", \"Retry Count\", \"Total\"])"
   ]
  },
  {
   "cell_type": "code",
   "execution_count": 5,
   "metadata": {},
   "outputs": [],
   "source": [
    "def load_data(num_of_runs):\n",
    "    data = OrderedDict()\n",
    "    data[\"PBTFactory\"] = load_from_folder(\"result_pub/stdlib/PBTFactory_stdlib\", num_of_runs)\n",
    "    data[\"PBT baseline\"] = load_from_folder(\"result_pub/stdlib/pbt_baseline_stdlib\", num_of_runs)\n",
    "    data[\"unit test baseline\"] = load_from_folder(\"result_pub/stdlib/unit_test_baseline_stdlib\", num_of_runs)\n",
    "    data[\"Test given\"] = load_from_folder(\"result_pub/stdlib/test_given_stdlib\", 1)\n",
    "    data[\"PBTFactory + PBT baseline\"] = data[\"PBTFactory\"] + data[\"PBT baseline\"]\n",
    "    data[\"PBTFactory + unit test baseline\"] = data[\"PBTFactory\"] + data[\"unit test baseline\"]\n",
    "    data[\"PBTFactory + Test given\"] = data[\"PBTFactory\"] + data[\"Test given\"]\n",
    "    data[\"PBT baseline + unit test baseline\"] = data[\"PBT baseline\"] + data[\"unit test baseline\"]\n",
    "    data[\"PBT baseline + Test given\"] = data[\"PBT baseline\"] + data[\"Test given\"]\n",
    "    data[\"unit test baseline + Test given\"] = data[\"unit test baseline\"] + data[\"Test given\"]\n",
    "    return data"
   ]
  },
  {
   "cell_type": "code",
   "execution_count": 6,
   "metadata": {},
   "outputs": [
    {
     "name": "stdout",
     "output_type": "stream",
     "text": [
      "| Pipeline | Mutation Score | Coverage | Success Rate | Create Rate | Retry Count | Total |\n",
      "| --- | --- | --- | --- | --- | --- | --- |\n",
      "| PBTFactory | 68% / 68% | 87% / 86% | 98% / 100% | 71% / 75% | 0.7 / 0.6 | 10.0 / 7.3 |\n",
      "| PBT baseline | 47% / 50% | 72% / 74% | 87% / 100% | 100% / 100% | 1.5 / 1.4 | 10.0 / 7.3 |\n",
      "| unit test baseline | 74% / 75% | 92% / 92% | 84% / 100% | 100% / 100% | 1.9 / 1.9 | 10.0 / 7.3 |\n",
      "| Test given | 72% / 67% | 87% / 85% | 100% / 100% | -100% / -100% | -1.0 / -1.0 | 10.0 / 7.3 |\n",
      "| PBTFactory + PBT baseline | 71% / 73% | 86% / 86% | 100% / 100% | 79% / 83% | 1.0 / 0.9 | 10.0 / 7.3 |\n",
      "| PBTFactory + unit test baseline | 82% / 84% | 95% / 95% | 100% / 100% | 82% / 87% | 1.1 / 1.1 | 10.0 / 7.3 |\n",
      "| PBTFactory + Test given | 85% / 83% | 96% / 95% | 100% / 100% | 31% / 37% | 0.3 / 0.2 | 10.0 / 7.3 |\n",
      "| PBT baseline + unit test baseline | 76% / 85% | 89% / 94% | 98% / 100% | 100% / 100% | 1.9 / 1.8 | 10.0 / 7.3 |\n",
      "| PBT baseline + Test given | 85% / 84% | 94% / 94% | 100% / 100% | 16% / 35% | 0.4 / 0.6 | 10.0 / 7.3 |\n",
      "| unit test baseline + Test given | 84% / 82% | 94% / 94% | 100% / 100% | 24% / 50% | 0.8 / 1.2 | 10.0 / 7.3 |\n"
     ]
    }
   ],
   "source": [
    "table3_1 = get_summary(load_data, 5, False)\n",
    "table3_2 = get_summary(load_data, 5, True)\n",
    "print_table(table3_1, [\"Pipeline\", \"Mutation Score\", \"Coverage\", \"Success Rate\", \"Create Rate\", \"Retry Count\", \"Total\"], table3_2)"
   ]
  },
  {
   "cell_type": "code",
   "execution_count": 7,
   "metadata": {},
   "outputs": [
    {
     "name": "stdout",
     "output_type": "stream",
     "text": [
      "| Pipeline | Mutation Score | Coverage | Success Rate | Create Rate | Retry Count | Total |\n",
      "| --- | --- | --- | --- | --- | --- | --- |\n",
      "| PBTFactory | 68% | 87% | 98% | 71% | 0.7 | 10.0 |\n",
      "| PBTFactory without expert knowledge | 66% | 87% | 96% | 68% | 0.7 | 10.0 |\n"
     ]
    }
   ],
   "source": [
    "def load_data(num_of_runs):\n",
    "    data = OrderedDict()\n",
    "    data[\"PBTFactory\"] = load_from_folder(\"result_pub/stdlib/PBTFactory_stdlib\", num_of_runs)\n",
    "    data[\"PBTFactory without expert knowledge\"] = load_from_folder(\"result_pub/stdlib/PBTFactory_stdlib_without_expert_knowledge\", num_of_runs)\n",
    "    return data\n",
    "\n",
    "table4 = get_summary(load_data, 5, False)\n",
    "print_table(table4, [\"Pipeline\", \"Mutation Score\", \"Coverage\", \"Success Rate\", \"Create Rate\", \"Retry Count\", \"Total\"])"
   ]
  },
  {
   "cell_type": "code",
   "execution_count": 8,
   "metadata": {},
   "outputs": [
    {
     "name": "stdout",
     "output_type": "stream",
     "text": [
      "| Pipeline | Mutation Score | Coverage | Success Rate | Create Rate | Retry Count | Total |\n",
      "| --- | --- | --- | --- | --- | --- | --- |\n",
      "| PBTFactory | 67% / 73% | 86% / 93% | 99% / 100% | 71% / 71% | 0.7 / 0.6 | 10.0 / 8.9 |\n",
      "| PBTFactory with class interface | 73% / 73% | 92% / 92% | 89% / 100% | 68% / 68% | 0.6 / 0.6 | 10.0 / 8.9 |\n",
      "| PBTFactory no test | 63% / 69% | 86% / 92% | 98% / 100% | 68% / 69% | 0.7 / 0.7 | 10.0 / 8.9 |\n"
     ]
    }
   ],
   "source": [
    "def load_data(num_of_runs):\n",
    "    data = OrderedDict()\n",
    "    data[\"PBTFactory\"] = load_from_folder(\"result_pub/stdlib/PBTFactory_stdlib\", num_of_runs)\n",
    "    data[\"PBTFactory with class interface\"] = load_from_folder(\"result_pub/stdlib/PBTFactory_stdlib_with_class_interface\", num_of_runs)\n",
    "    data[\"PBTFactory no test\"] = load_from_folder(\"result_pub/stdlib/PBTFactory_stdlib_no_test\", num_of_runs)\n",
    "    return data\n",
    "\n",
    "table5_1 = get_summary(load_data, 5, False)\n",
    "table5_2 = get_summary(load_data, 5, True)\n",
    "print_table(table5_1, [\"Pipeline\", \"Mutation Score\", \"Coverage\", \"Success Rate\", \"Create Rate\", \"Retry Count\", \"Total\"], table5_2)"
   ]
  },
  {
   "cell_type": "code",
   "execution_count": 9,
   "metadata": {},
   "outputs": [
    {
     "name": "stdout",
     "output_type": "stream",
     "text": [
      "| Pipeline | Mutation Score | Coverage | Success Rate | Create Rate | Retry Count | Total |\n",
      "| --- | --- | --- | --- | --- | --- | --- |\n",
      "| evalplus unit test baseline | 34% | 57% | 82% | 100% | 1.7 | 164.0 |\n",
      "| evalplus pbt baseline | 55% | 89% | 87% | 100% | 0.6 | 164.0 |\n",
      "| evalplus PBTFactory | 79% | 97% | 88% | 93% | 0.3 | 164.0 |\n",
      "| flutils unit test baseline | 58% | 75% | 50% | 100% | 2.1 | 42.0 |\n",
      "| flutils pbt baseline | 43% | 70% | 48% | 100% | 1.5 | 42.0 |\n",
      "| flutils PBTFactory | 56% | 89% | 60% | 75% | 0.7 | 42.0 |\n",
      "| requests unit test baseline | 39% | 66% | 50% | 100% | 2.1 | 70.0 |\n",
      "| requests pbt baseline | 43% | 73% | 41% | 100% | 1.5 | 70.0 |\n",
      "| requests PBTFactory | 49% | 84% | 50% | 77% | 0.7 | 70.0 |\n",
      "| werkzeug unit test baseline | 52% | 73% | 45% | 100% | 2.4 | 111.0 |\n",
      "| werkzeug pbt baseline | 39% | 68% | 41% | 100% | 2.1 | 111.0 |\n",
      "| werkzeug PBTFactory | 47% | 77% | 51% | 69% | 0.6 | 111.0 |\n"
     ]
    }
   ],
   "source": [
    "def load_data(num_of_runs):\n",
    "    data = OrderedDict()\n",
    "    data[\"evalplus unit test baseline\"] = load_from_folder(\"result_pub/evalplus/unit_test_baseline_evalplus\", num_of_runs)\n",
    "    data[\"evalplus pbt baseline\"] = load_from_folder(\"result_pub/evalplus/pbt_baseline_evalplus\", num_of_runs)\n",
    "    data[\"evalplus PBTFactory\"] = load_from_folder(\"result_pub/evalplus/PBTFactory_evalplus\", num_of_runs)\n",
    "    \n",
    "    data[\"flutils unit test baseline\"] = load_from_folder(\"result_pub/large_projects/PBTFactory_real_flutils_unit_baseline\", num_of_runs)\n",
    "    data[\"flutils pbt baseline\"] = load_from_folder(\"result_pub/large_projects/PBTFactory_real_flutils_pbt_baseline\", num_of_runs)\n",
    "    data[\"flutils PBTFactory\"] = load_from_folder(\"result_pub/large_projects/PBTFactory_real_flutils\", num_of_runs)\n",
    "\n",
    "    data[\"requests unit test baseline\"] = load_from_folder(\"result_pub/large_projects/PBTFactory_real_requests_unit_baseline\", num_of_runs)\n",
    "    data[\"requests pbt baseline\"] = load_from_folder(\"result_pub/large_projects/PBTFactory_real_requests_pbt_baseline\", num_of_runs)\n",
    "    data[\"requests PBTFactory\"] = load_from_folder(\"result_pub/large_projects/PBTFactory_real_requests\", num_of_runs)\n",
    "\n",
    "    data[\"werkzeug unit test baseline\"] = load_from_folder(\"result_pub/large_projects/PBTFactory_real_werkzeug_unit_baseline\", num_of_runs)\n",
    "    data[\"werkzeug pbt baseline\"] = load_from_folder(\"result_pub/large_projects/PBTFactory_real_werkzeug_pbt_baseline\", num_of_runs)\n",
    "    data[\"werkzeug PBTFactory\"] = load_from_folder(\"result_pub/large_projects/PBTFactory_real_werkzeug\", num_of_runs)\n",
    "    return data\n",
    "\n",
    "table6 = get_summary(load_data, 1)\n",
    "print_table(table6, [\"Pipeline\", \"Mutation Score\", \"Coverage\", \"Success Rate\", \"Create Rate\", \"Retry Count\", \"Total\"])"
   ]
  },
  {
   "cell_type": "code",
   "execution_count": null,
   "metadata": {},
   "outputs": [],
   "source": []
  }
 ],
 "metadata": {
  "kernelspec": {
   "display_name": "base",
   "language": "python",
   "name": "python3"
  },
  "language_info": {
   "codemirror_mode": {
    "name": "ipython",
    "version": 3
   },
   "file_extension": ".py",
   "mimetype": "text/x-python",
   "name": "python",
   "nbconvert_exporter": "python",
   "pygments_lexer": "ipython3",
   "version": "3.10.14"
  }
 },
 "nbformat": 4,
 "nbformat_minor": 2
}
